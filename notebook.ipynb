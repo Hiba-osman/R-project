{
 "cells": [
  {
   "cell_type": "markdown",
   "metadata": {},
   "source": [
    "# HDI Analysis with Apriori Algorithm"
   ]
  },
  {
   "cell_type": "code",
   "execution_count": null,
   "metadata": {},
   "outputs": [],
   "source": [
    "# Install and load necessary libraries\n",
    "install.packages(\"arules\")\n",
    "library(arules)\n",
    "library(readr)"
   ]
  },
  {
   "cell_type": "code",
   "execution_count": null,
   "metadata": {},
   "outputs": [],
   "source": [
    "# Load your dataset\n",
    "hdi_data <- read_csv(\"human-development-index-hdi-2014.csv\")\n",
    "\n",
    "# View the dataset structure (optional)\n",
    "str(hdi_data)"
   ]
  },
  {
   "cell_type": "code",
   "execution_count": null,
   "metadata": {},
   "outputs": [],
   "source": [
    "# Convert data to transactions (you may need to adjust based on your dataset structure)\n",
    "# Example: creating a transaction object from the dataset\n",
    "# Note: Adjust 'your_columns' based on your dataset\n",
    "trans <- as(hdi_data, \"transactions\")"
   ]
  },
  {
   "cell_type": "code",
   "execution_count": null,
   "metadata": {},
   "outputs": [],
   "source": [
    "# Apply the Apriori algorithm\n",
    "rules <- apriori(trans, parameter = list(supp = 0.01, conf = 0.5))\n",
    "\n",
    "# Inspect the rules\n",
    "inspect(rules)"
   ]
  }
 ],
 "metadata": {
  "kernelspec": {
   "display_name": "R",
   "language": "R",
   "name": "ir"
  },
  "language_info": {
   "codemirror_mode": "r",
   "file_extension": ".r",
   "mimetype": "text/x-r-source",
   "name": "R",
   "pygments_lexer": "r",
   "version": "4.0.2"
  }
 },
 "nbformat": 4,
 "nbformat_minor": 4
}
